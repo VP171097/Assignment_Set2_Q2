{
 "cells": [
  {
   "cell_type": "code",
   "execution_count": 1,
   "id": "ba2a04a6",
   "metadata": {},
   "outputs": [],
   "source": [
    "from scipy import stats"
   ]
  },
  {
   "cell_type": "code",
   "execution_count": 2,
   "id": "d1ee4e2a",
   "metadata": {},
   "outputs": [
    {
     "data": {
      "text/plain": [
       "1.0"
      ]
     },
     "execution_count": 2,
     "metadata": {},
     "output_type": "execute_result"
    }
   ],
   "source": [
    "# For x>44\n",
    "\n",
    "z=(44-38)/6\n",
    "z"
   ]
  },
  {
   "cell_type": "code",
   "execution_count": 3,
   "id": "9e9bdd11",
   "metadata": {},
   "outputs": [
    {
     "data": {
      "text/plain": [
       "0.15865525393145707"
      ]
     },
     "execution_count": 3,
     "metadata": {},
     "output_type": "execute_result"
    }
   ],
   "source": [
    "#Employees older than 44 years of age ,p(x>44)\n",
    "P_Greater_44 = 1-stats.norm.cdf(abs(z))\n",
    "P_Greater_44"
   ]
  },
  {
   "cell_type": "code",
   "execution_count": 4,
   "id": "c9873251",
   "metadata": {},
   "outputs": [
    {
     "data": {
      "text/plain": [
       "0.3413447460685429"
      ]
     },
     "execution_count": 4,
     "metadata": {},
     "output_type": "execute_result"
    }
   ],
   "source": [
    "#Employees between 38 and 44 years of age using formula stats.norm.cdf(44, loc=38, scale=6)\n",
    "\n",
    "Bet_38_44 = stats.norm.cdf(44, 38,6)-stats.norm.cdf(38,38,6)\n",
    "Bet_38_44"
   ]
  },
  {
   "cell_type": "markdown",
   "id": "e2db1440",
   "metadata": {},
   "source": [
    "A. More employees at the processing center are older than 44 than between 38 and 44. ***is False*** as value calculated in line 3 and line 4 shows that employees between 38 and 44 years of age is more."
   ]
  },
  {
   "cell_type": "code",
   "execution_count": 6,
   "id": "9f75dae6",
   "metadata": {},
   "outputs": [
    {
     "data": {
      "text/plain": [
       "36.484487890347154"
      ]
     },
     "execution_count": 6,
     "metadata": {},
     "output_type": "execute_result"
    }
   ],
   "source": [
    "#Number of employees attending training under the age of 30 years\n",
    "Under_30 = 400 * stats.norm.cdf(30,38,6)\n",
    "Under_30"
   ]
  },
  {
   "cell_type": "markdown",
   "id": "18e49773",
   "metadata": {},
   "source": [
    "B.\tA training program for employees under the age of 30 at the center would be expected to attract about 36 employees.\n",
    "The above statement ***is true*** as per the calculation in line number 9 and output 9 is 36.48."
   ]
  },
  {
   "cell_type": "code",
   "execution_count": null,
   "id": "3b3dc209",
   "metadata": {},
   "outputs": [],
   "source": []
  }
 ],
 "metadata": {
  "kernelspec": {
   "display_name": "Python 3 (ipykernel)",
   "language": "python",
   "name": "python3"
  },
  "language_info": {
   "codemirror_mode": {
    "name": "ipython",
    "version": 3
   },
   "file_extension": ".py",
   "mimetype": "text/x-python",
   "name": "python",
   "nbconvert_exporter": "python",
   "pygments_lexer": "ipython3",
   "version": "3.9.7"
  }
 },
 "nbformat": 4,
 "nbformat_minor": 5
}
